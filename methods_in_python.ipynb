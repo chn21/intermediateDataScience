{
 "cells": [
  {
   "cell_type": "code",
   "execution_count": 3,
   "metadata": {},
   "outputs": [
    {
     "name": "stdout",
     "output_type": "stream",
     "text": [
      "1\n",
      "6\n"
     ]
    }
   ],
   "source": [
    "#methods\n",
    "#x.index() \n",
    "#gives index of an elements\n",
    "\n",
    "data=[1,2,3,4,5,6,7,7,6,5,5,5,]\n",
    "\n",
    "print(data.index(2))\n",
    "\n",
    "print(data.index(7))"
   ]
  },
  {
   "cell_type": "code",
   "execution_count": 11,
   "metadata": {},
   "outputs": [
    {
     "name": "stdout",
     "output_type": "stream",
     "text": [
      "4\n"
     ]
    }
   ],
   "source": [
    "#count of elements\n",
    "#x.count()\n",
    "data=[1,2,3,4,5,6,7,7,6,5,5,5,]\n",
    "\n",
    "print(data.count(5))"
   ]
  },
  {
   "cell_type": "code",
   "execution_count": 12,
   "metadata": {},
   "outputs": [
    {
     "name": "stdout",
     "output_type": "stream",
     "text": [
      "[1, 2, 3, 4, 5, 6, 7, 7, 6, 5, 5, 5, 10]\n"
     ]
    }
   ],
   "source": [
    "#x.append()\n",
    "#append new elements in the list\n",
    "\n",
    "data=[1,2,3,4,5,6,7,7,6,5,5,5,]\n",
    "#elements 10 added to the list\n",
    "\n",
    "data.append(10)\n",
    "print(data)"
   ]
  },
  {
   "cell_type": "code",
   "execution_count": 15,
   "metadata": {},
   "outputs": [
    {
     "name": "stdout",
     "output_type": "stream",
     "text": [
      "CHAKRA\n",
      "neopaney\n"
     ]
    }
   ],
   "source": [
    "#x.upper()\n",
    "#change lower case string to upper case and vice-versa\n",
    "\n",
    "data='chakra'\n",
    "dt='NEOPANEY'\n",
    "\n",
    "#chan ging to upper case\n",
    "print(data.upper())\n",
    "\n",
    "#changing to lower case\n",
    "print(dt.lower())"
   ]
  },
  {
   "cell_type": "code",
   "execution_count": 22,
   "metadata": {},
   "outputs": [
    {
     "name": "stdout",
     "output_type": "stream",
     "text": [
      "None\n"
     ]
    }
   ],
   "source": [
    "#reversed the list\n",
    "#x.reverse()\n",
    "\n",
    "datas=[1,2,3,4,5,6,7,7,6,5,5,5,]\n",
    "\n",
    "print(datas.reverse())\n"
   ]
  },
  {
   "cell_type": "code",
   "execution_count": null,
   "metadata": {
    "collapsed": true
   },
   "outputs": [],
   "source": []
  }
 ],
 "metadata": {
  "kernelspec": {
   "display_name": "Python 3",
   "language": "python",
   "name": "python3"
  },
  "language_info": {
   "codemirror_mode": {
    "name": "ipython",
    "version": 3
   },
   "file_extension": ".py",
   "mimetype": "text/x-python",
   "name": "python",
   "nbconvert_exporter": "python",
   "pygments_lexer": "ipython3",
   "version": "3.6.3"
  }
 },
 "nbformat": 4,
 "nbformat_minor": 2
}
