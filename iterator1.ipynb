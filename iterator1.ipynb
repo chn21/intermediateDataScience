{
 "cells": [
  {
   "cell_type": "code",
   "execution_count": 1,
   "metadata": {},
   "outputs": [
    {
     "name": "stdout",
     "output_type": "stream",
     "text": [
      "range(10, 21)\n"
     ]
    }
   ],
   "source": [
    "values=range(10,21)\n",
    "print(values)\n"
   ]
  },
  {
   "cell_type": "code",
   "execution_count": 2,
   "metadata": {
    "collapsed": true
   },
   "outputs": [],
   "source": [
    "value_list=list(values)"
   ]
  },
  {
   "cell_type": "code",
   "execution_count": 3,
   "metadata": {},
   "outputs": [
    {
     "name": "stdout",
     "output_type": "stream",
     "text": [
      "[10, 11, 12, 13, 14, 15, 16, 17, 18, 19, 20]\n"
     ]
    }
   ],
   "source": [
    "print(value_list)"
   ]
  },
  {
   "cell_type": "code",
   "execution_count": 4,
   "metadata": {},
   "outputs": [
    {
     "name": "stdout",
     "output_type": "stream",
     "text": [
      "165\n"
     ]
    }
   ],
   "source": [
    "\n",
    "value_sum=sum(value_list)\n",
    "print(value_sum)"
   ]
  },
  {
   "cell_type": "code",
   "execution_count": 5,
   "metadata": {},
   "outputs": [
    {
     "name": "stdout",
     "output_type": "stream",
     "text": [
      "0 arsenal\n",
      "1 chelsea\n",
      "2 liverppol\n",
      "3 manutd\n",
      "4 mancity\n",
      "5 spurs\n"
     ]
    }
   ],
   "source": [
    "#printing values using enumerator\n",
    "names=['arsenal', 'chelsea','liverppol','manutd', 'mancity','spurs']\n",
    "for index, value in enumerate(names):\n",
    "    print(index, value)"
   ]
  },
  {
   "cell_type": "code",
   "execution_count": 6,
   "metadata": {},
   "outputs": [
    {
     "name": "stdout",
     "output_type": "stream",
     "text": [
      "20 arsenal\n",
      "21 chelsea\n",
      "22 liverppol\n",
      "23 manutd\n",
      "24 mancity\n",
      "25 spurs\n"
     ]
    }
   ],
   "source": [
    "#printing values using enumerator with desired index as start\n",
    "for index, value in enumerate(names, start=20):\n",
    "    print(index, value)"
   ]
  },
  {
   "cell_type": "code",
   "execution_count": 7,
   "metadata": {},
   "outputs": [
    {
     "name": "stdout",
     "output_type": "stream",
     "text": [
      "[('arsenal', 'rank6'), ('chelsea', 'rank4'), ('mancity', 'rank1'), ('manutd', 'rank2'), ('liverpool', 'rank3'), ('spurs', 'rank5')]\n"
     ]
    }
   ],
   "source": [
    "#zip()function for iterating in the list\n",
    "team=['arsenal','chelsea','mancity','manutd','liverpool','spurs']\n",
    "rankings=['rank6','rank4','rank1','rank2','rank3','rank5']\n",
    "\n",
    "z=zip(team, rankings)\n",
    "z_list=list(z)\n",
    "print(z_list)"
   ]
  },
  {
   "cell_type": "code",
   "execution_count": 8,
   "metadata": {},
   "outputs": [
    {
     "name": "stdout",
     "output_type": "stream",
     "text": [
      "arsenal rank6\n",
      "chelsea rank4\n",
      "mancity rank1\n",
      "manutd rank2\n",
      "liverpool rank3\n",
      "spurs rank5\n"
     ]
    }
   ],
   "source": [
    "#using for to iterate\n",
    "for z1,z2 in zip(team, rankings):\n",
    "    print(z1,z2)"
   ]
  },
  {
   "cell_type": "code",
   "execution_count": 10,
   "metadata": {},
   "outputs": [
    {
     "name": "stdout",
     "output_type": "stream",
     "text": [
      "('arsenal', 'rank6') ('chelsea', 'rank4') ('mancity', 'rank1') ('manutd', 'rank2') ('liverpool', 'rank3') ('spurs', 'rank5')\n"
     ]
    }
   ],
   "source": [
    "#using splash *zip\n",
    "z=zip(team, rankings)\n",
    "print(*z)\n"
   ]
  },
  {
   "cell_type": "code",
   "execution_count": 11,
   "metadata": {},
   "outputs": [
    {
     "name": "stdout",
     "output_type": "stream",
     "text": [
      "[('arsenal', 'rank6', 'wenger'), ('chelsea', 'rank4', 'conte'), ('mancity', 'rank1', 'gudi'), ('manutd', 'rank2', 'jose'), ('liverpool', 'rank3', 'klopp'), ('spurs', 'rank5', 'puchitino')]\n"
     ]
    }
   ],
   "source": [
    "team=['arsenal','chelsea','mancity','manutd','liverpool','spurs']\n",
    "rankings=['rank6','rank4','rank1','rank2','rank3','rank5']\n",
    "coach=[\"wenger\",\"conte\",'gudi','jose','klopp','puchitino']\n",
    "\n",
    "combine=zip(team, rankings, coach)\n",
    "list_combine=list(combine)\n",
    "print(list_combine)\n",
    "\n"
   ]
  },
  {
   "cell_type": "code",
   "execution_count": 13,
   "metadata": {},
   "outputs": [
    {
     "name": "stdout",
     "output_type": "stream",
     "text": [
      "arsenal rank6 wenger\n",
      "chelsea rank4 conte\n",
      "mancity rank1 gudi\n",
      "manutd rank2 jose\n",
      "liverpool rank3 klopp\n",
      "spurs rank5 puchitino\n"
     ]
    }
   ],
   "source": [
    "#printing with zip() functions\n",
    "combine=zip(team, rankings, coach)\n",
    "for t1,r1,c1 in combine:\n",
    "    print(t1,r1,c1)"
   ]
  },
  {
   "cell_type": "code",
   "execution_count": 14,
   "metadata": {},
   "outputs": [
    {
     "name": "stdout",
     "output_type": "stream",
     "text": [
      "('arsenal', 'rank6', 'wenger') ('chelsea', 'rank4', 'conte') ('mancity', 'rank1', 'gudi') ('manutd', 'rank2', 'jose') ('liverpool', 'rank3', 'klopp') ('spurs', 'rank5', 'puchitino')\n"
     ]
    }
   ],
   "source": [
    "combine=zip(team, rankings, coach)\n",
    "print(*combine)"
   ]
  },
  {
   "cell_type": "code",
   "execution_count": null,
   "metadata": {
    "collapsed": true
   },
   "outputs": [],
   "source": []
  }
 ],
 "metadata": {
  "kernelspec": {
   "display_name": "Python 3",
   "language": "python",
   "name": "python3"
  },
  "language_info": {
   "codemirror_mode": {
    "name": "ipython",
    "version": 3
   },
   "file_extension": ".py",
   "mimetype": "text/x-python",
   "name": "python",
   "nbconvert_exporter": "python",
   "pygments_lexer": "ipython3",
   "version": "3.6.3"
  }
 },
 "nbformat": 4,
 "nbformat_minor": 2
}
