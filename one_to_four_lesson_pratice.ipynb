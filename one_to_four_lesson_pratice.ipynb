{
 "cells": [
  {
   "cell_type": "code",
   "execution_count": 10,
   "metadata": {},
   "outputs": [
    {
     "name": "stdout",
     "output_type": "stream",
     "text": [
      "[3, 6, 9, 12, 15, 18, 21, 24, 27]\n",
      "[12, 15, 18, 21, 24, 27]\n",
      "27\n",
      "24\n",
      "[3, 6, 9, 12, 15]\n"
     ]
    }
   ],
   "source": [
    "#python list manipulation\n",
    "data=[3,6,9,12,15,18,21,24,27]\n",
    "\n",
    "#print start and end elements\n",
    "print(data[0:])\n",
    "\n",
    "#print specific index till last\n",
    "print(data[3:])\n",
    "\n",
    "#print last index\n",
    "print(data[-1])\n",
    "\n",
    "#print second last index\n",
    "print(data[-2])\n",
    "\n",
    "#print top 5 index\n",
    "print(data[:5])"
   ]
  },
  {
   "cell_type": "code",
   "execution_count": 11,
   "metadata": {},
   "outputs": [
    {
     "name": "stdout",
     "output_type": "stream",
     "text": [
      "[3, 7, 9, 12, 15, 18, 21, 24, 27]\n"
     ]
    }
   ],
   "source": [
    "#changing the list elements\n",
    "data=[3,6,9,12,15,18,21,24,27]\n",
    "\n",
    "#changing elements at index 1 from 6 to 7\n",
    "data[1]=7\n",
    "print(data)"
   ]
  },
  {
   "cell_type": "code",
   "execution_count": 12,
   "metadata": {
    "collapsed": true
   },
   "outputs": [],
   "source": [
    "#changing more than one elements \n",
    "data=[3,6,9,12,15,18,21,24,27]\n",
    "\n",
    "#change index 0,1 and 2 to 2,3 and 4\n",
    "data[0:3]=[2,3,4]"
   ]
  },
  {
   "cell_type": "code",
   "execution_count": 13,
   "metadata": {},
   "outputs": [
    {
     "name": "stdout",
     "output_type": "stream",
     "text": [
      "[2, 3, 4, 12, 15, 18, 21, 24, 27]\n"
     ]
    }
   ],
   "source": [
    "#print the changed items\n",
    "print(data)"
   ]
  },
  {
   "cell_type": "code",
   "execution_count": 14,
   "metadata": {},
   "outputs": [
    {
     "name": "stdout",
     "output_type": "stream",
     "text": [
      "[2, 3, 4, 15, 18, 21, 24, 27]\n"
     ]
    }
   ],
   "source": [
    "#delete the elemets from the list, delete 12 and index 3\n",
    "del[data[3]]\n",
    "print(data)"
   ]
  },
  {
   "cell_type": "code",
   "execution_count": 22,
   "metadata": {},
   "outputs": [
    {
     "name": "stdout",
     "output_type": "stream",
     "text": [
      "[3, 6, 9, 12, 15, 18, 21, 24, 27]\n",
      "[3, 6, 9, 12, 15, 21, 24, 27]\n",
      "[1, 6, 9, 12, 15, 21, 24, 27]\n",
      "27\n",
      "[1, 6, 9, 12, 15, 21, 24, 27]\n"
     ]
    }
   ],
   "source": [
    "#changing the lsit without affecting the list.\n",
    "#make a copy of thr original list and change that list\n",
    "\n",
    "data=[3,6,9,12,15,18,21,24,27]\n",
    "\n",
    "#make a copy: data_copy\n",
    "data_copy=list(data)\n",
    "\n",
    "#print data_copy and see if elemets are copied or not\n",
    "print(data_copy)\n",
    "\n",
    "#delete elemets at index 5 thats 18\n",
    "del(data_copy[5])\n",
    "print(data_copy)\n",
    "\n",
    "#change first elements to 1\n",
    "data_copy[0]=1\n",
    "print(data_copy)\n",
    "\n",
    "#print the last elements\n",
    "print(data[-1])\n",
    "\n",
    "print(data_copy)"
   ]
  },
  {
   "cell_type": "code",
   "execution_count": 24,
   "metadata": {},
   "outputs": [
    {
     "name": "stdout",
     "output_type": "stream",
     "text": [
      "27\n",
      "3\n"
     ]
    }
   ],
   "source": [
    "#some basic functions of python\n",
    "#max and min\n",
    "data=[3,6,9,12,15,18,21,24,27]\n",
    "\n",
    "print(max(data))\n",
    "print(min(data))"
   ]
  },
  {
   "cell_type": "code",
   "execution_count": 25,
   "metadata": {},
   "outputs": [
    {
     "name": "stdout",
     "output_type": "stream",
     "text": [
      "135\n"
     ]
    }
   ],
   "source": [
    "print(sum(data))"
   ]
  },
  {
   "cell_type": "code",
   "execution_count": 26,
   "metadata": {},
   "outputs": [
    {
     "name": "stdout",
     "output_type": "stream",
     "text": [
      "1.7\n"
     ]
    }
   ],
   "source": [
    "#rounding up the float values\n",
    "\n",
    "print(round(1.66,1))\n"
   ]
  },
  {
   "cell_type": "code",
   "execution_count": 27,
   "metadata": {},
   "outputs": [
    {
     "name": "stdout",
     "output_type": "stream",
     "text": [
      "<class 'list'>\n"
     ]
    }
   ],
   "source": [
    "#checking the type() of the variables\n",
    "print(type(data))"
   ]
  },
  {
   "cell_type": "code",
   "execution_count": 28,
   "metadata": {},
   "outputs": [
    {
     "name": "stdout",
     "output_type": "stream",
     "text": [
      "<class 'bool'>\n"
     ]
    }
   ],
   "source": [
    "var1=True\n",
    "print(type(var1))"
   ]
  },
  {
   "cell_type": "code",
   "execution_count": 29,
   "metadata": {},
   "outputs": [
    {
     "name": "stdout",
     "output_type": "stream",
     "text": [
      "<class 'float'>\n"
     ]
    }
   ],
   "source": [
    "var2=3.33333\n",
    "print(type(var2))"
   ]
  },
  {
   "cell_type": "code",
   "execution_count": 30,
   "metadata": {},
   "outputs": [
    {
     "name": "stdout",
     "output_type": "stream",
     "text": [
      "<class 'str'>\n"
     ]
    }
   ],
   "source": [
    "var3=\"chakra and chahana\"\n",
    "print(type(var3))"
   ]
  },
  {
   "cell_type": "code",
   "execution_count": 33,
   "metadata": {},
   "outputs": [
    {
     "name": "stdout",
     "output_type": "stream",
     "text": [
      "<class 'int'>\n"
     ]
    }
   ],
   "source": [
    "#changing one variable type to another\n",
    "\n",
    "out1=int(var2)\n",
    "print(type(out1))"
   ]
  },
  {
   "cell_type": "code",
   "execution_count": 34,
   "metadata": {},
   "outputs": [
    {
     "name": "stdout",
     "output_type": "stream",
     "text": [
      "18\n"
     ]
    }
   ],
   "source": [
    "#printing the length of var3\n",
    "print(len(var3))"
   ]
  },
  {
   "cell_type": "code",
   "execution_count": 35,
   "metadata": {},
   "outputs": [
    {
     "name": "stdout",
     "output_type": "stream",
     "text": [
      "[11.25, 18.0, 20.0, 10.75, 9.5]\n"
     ]
    }
   ],
   "source": [
    "#combining and sorting list in order\n",
    "first = [11.25, 18.0, 20.0]\n",
    "second = [10.75, 9.50]\n",
    "\n",
    "full=first+second\n",
    "print(full)"
   ]
  },
  {
   "cell_type": "code",
   "execution_count": 37,
   "metadata": {},
   "outputs": [
    {
     "name": "stdout",
     "output_type": "stream",
     "text": [
      "[20.0, 18.0, 11.25, 10.75, 9.5]\n"
     ]
    }
   ],
   "source": [
    "#sorting the combined list in order, if reverse= true, it prints\n",
    "#from descending order big to small\n",
    "full_sorted=sorted(full, reverse=True)\n",
    "print(full_sorted)"
   ]
  },
  {
   "cell_type": "code",
   "execution_count": 39,
   "metadata": {},
   "outputs": [
    {
     "name": "stdout",
     "output_type": "stream",
     "text": [
      "[9.5, 10.75, 11.25, 18.0, 20.0]\n"
     ]
    }
   ],
   "source": [
    "#if reversed true or false is not mentioned it\n",
    "#Sprints from smaller to bigger\n",
    "full_sorted=sorted(full)\n",
    "print(full_sorted)"
   ]
  },
  {
   "cell_type": "code",
   "execution_count": null,
   "metadata": {
    "collapsed": true
   },
   "outputs": [],
   "source": [
    "#calculate MEAN, MEDIAN AND STD.DEV of a list\n",
    "\n"
   ]
  }
 ],
 "metadata": {
  "kernelspec": {
   "display_name": "Python 3",
   "language": "python",
   "name": "python3"
  },
  "language_info": {
   "codemirror_mode": {
    "name": "ipython",
    "version": 3
   },
   "file_extension": ".py",
   "mimetype": "text/x-python",
   "name": "python",
   "nbconvert_exporter": "python",
   "pygments_lexer": "ipython3",
   "version": "3.6.3"
  }
 },
 "nbformat": 4,
 "nbformat_minor": 2
}
